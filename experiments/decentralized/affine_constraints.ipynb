{
 "cells": [
  {
   "cell_type": "code",
   "execution_count": 1,
   "id": "0241d53e-e793-485f-bbc4-888083e99d18",
   "metadata": {},
   "outputs": [],
   "source": [
    "import random\n",
    "import numpy as np\n",
    "import typing as tp\n",
    "\n",
    "# graphs\n",
    "import matplotlib.pyplot as plt\n",
    "import networkx as nx\n",
    "from networkx.generators.random_graphs import erdos_renyi_graph, complete_graph\n",
    "from networkx.generators import circulant_graph\n",
    "from scipy.stats import ortho_group"
   ]
  },
  {
   "cell_type": "code",
   "execution_count": 2,
   "id": "7673a850-40b9-4b42-991a-b7ccb270ac39",
   "metadata": {},
   "outputs": [],
   "source": [
    "import sys\n",
    "sys.path.append(\"../../\")\n",
    "\n",
    "from methods.minimization.base import BaseDecentralizedMethod\n",
    "from methods.minimization import LoggerDecentralized, DecentralizedGD\n",
    "from oracles.minimization import BaseSmoothOracle, OracleLinearComb, LinearRegressionL2Oracle"
   ]
  },
  {
   "cell_type": "code",
   "execution_count": 3,
   "id": "872929d2-cddb-4b7c-8675-16e9a25b368e",
   "metadata": {},
   "outputs": [],
   "source": [
    "class DAPDG(BaseDecentralizedMethod):\n",
    "    \n",
    "    \"\"\"\n",
    "    oracle_list: list of size M of oracles for every node\n",
    "    x_0: matrix of shape [M, N], must be if Range A^T\n",
    "    B: matrix of affine constraints of shape [P, N]\n",
    "    W: laplasian matrix of graph of shape [M, M]\n",
    "    logger: haven't figured it out yet\n",
    "    eta, alpha, beta, theta, sigma, gamma: parameters\n",
    "    \"\"\"\n",
    "    def __init__(\n",
    "            self,\n",
    "            oracle_list: tp.List[BaseSmoothOracle],\n",
    "            x_0: np.ndarray,\n",
    "            B: np.ndarray,\n",
    "            W: np.ndarray,\n",
    "            logger: LoggerDecentralized,\n",
    "            gamma: float = 0.75\n",
    "    ):\n",
    "        super().__init__(oracle_list, x_0, logger)\n",
    "                \n",
    "        self.B = B\n",
    "        self.W = W\n",
    "        \n",
    "        M = W.shape[0]\n",
    "        P, D = B.shape\n",
    "        self.D, self.M = D, M\n",
    "        \n",
    "        assert W.shape == (M, M)\n",
    "        assert self.x.shape == (M, D)\n",
    "        \n",
    "        self.gamma = gamma  # parameter for matrix A\n",
    "\n",
    "        bold_B = np.kron(np.ones((M, M)), B)\n",
    "        bold_W = np.kron(W, np.ones((D, D)))\n",
    "        self.A = np.vstack([bold_B, gamma * bold_W])\n",
    "        \n",
    "        L_mu_params = self.compute_l_mu(oracle_list, self.A)\n",
    "        self.init_parameters(**L_mu_params)\n",
    "        assert self.eta > 0 and self.alpha > 0 and self.beta > 0\n",
    "        assert 0 < self.tau <= 1 and 0 < self.sigma <= 1\n",
    "        \n",
    "        self.x_f = np.zeros((M, D))\n",
    "    \n",
    "        \n",
    "    def compute_l_mu(self, oracle_list, mat):\n",
    "        oracle = OracleLinearComb(oracle_list, [1 / len(oracle_list) for _ in oracle_list])\n",
    "        l_x = max([np.linalg.svd(oracle.A)[1].max() / oracle.den + oracle.regcoef for oracle in oracle_list])\n",
    "        mu_x = min([oracle.regcoef for oracle in oracle_list])\n",
    "        sing_vals = np.linalg.svd(mat)[1]\n",
    "        l_xy = sing_vals.max()**2\n",
    "        mu_xy = sing_vals[sing_vals >= 1e-10].min()**2\n",
    "        return dict(L_x=l_x, mu_x=mu_x, L_xy=l_xy, mu_xy=mu_xy)\n",
    "        \n",
    "    \n",
    "    def init_parameters(self, mu_x, mu_xy, L_x, L_xy):\n",
    "        delta = (mu_xy**2 / (2*mu_x*L_x))**.5\n",
    "        rho_b = (4 + 8 * max(L_xy / mu_xy * (L_x / mu_x)**.5,\n",
    "                             L_xy**2 / mu_xy**2)) ** (-1)\n",
    "        self.sigma = (mu_x / (2 * L_x))**.5\n",
    "        self.alpha = mu_x\n",
    "        # self.theta = 1 - rho_b\n",
    "        self.eta = min(1 / (4 * (mu_x + L_x * self.sigma)), delta / (4 * L_xy))\n",
    "        self.beta = 1 / (2 * self.eta * L_xy ** 2)\n",
    "        self.tau = (self.sigma**(-1) + 0.5)**(-1)\n",
    "        \n",
    "\n",
    "    def step(self):\n",
    "        A = self.A\n",
    "        x = self.x.reshape(self.M * self.D)\n",
    "        x_f = self.x_f.reshape(self.M * self.D)\n",
    "        x_g = self.tau * x + (1 - self.tau) * x_f\n",
    "        \n",
    "        grad_F_x_g = self.grad_list(x_g.reshape(M, D)).reshape(D * M)  # np.array[D * M]\n",
    "        \n",
    "        x_new = x + self.eta * self.alpha * (x_g - x) - \\\n",
    "            self.eta * (self.beta * A.T.dot(A.dot(x)) - grad_F_x_g)\n",
    "        \n",
    "        x_f = x_g + self.sigma * (x_new - x)\n",
    "        \n",
    "        self.x = x_new.reshape(self.M, self.D)\n",
    "        self.x_f = x_f.reshape(self.M, self.D)\n",
    "        \n",
    "        \n",
    "    \"\"\"\n",
    "    W: laplasian matrix of graph of shape [M, M]\n",
    "    \"\"\"\n",
    "    def set_new_graph(self, W):\n",
    "        assert W.shape == (self.M, self.M)\n",
    "        bold_B = np.kron(np.ones((self.M, self.M)), self.B)\n",
    "        bold_W = np.kron(W, np.ones((self.N, self.N)))\n",
    "        self.A = np.vstack([bold_B, self.gamma * bold_W])\n",
    "\n",
    "        \n",
    "def create_matrix_with_L_mu(nx, ny, L_xy, mu_xy):\n",
    "    rvsx = lambda: ortho_group.rvs(dim=nx)\n",
    "    rvsy = lambda: ortho_group.rvs(dim=ny)\n",
    "\n",
    "    nA = min(nx, ny)\n",
    "    eigvals_A = np.linspace(mu_xy, L_xy, nA)\n",
    "    if nx < ny:\n",
    "        mA = np.concatenate((np.diag(eigvals_A), np.zeros([nx, ny - nA])), axis=1)\n",
    "    else:\n",
    "        mA = np.concatenate((np.diag(eigvals_A), np.zeros([nx - nA, ny])), axis=0)\n",
    "    A = rvsx().dot(mA).dot(rvsy()).T\n",
    "\n",
    "    return A"
   ]
  },
  {
   "cell_type": "code",
   "execution_count": 4,
   "id": "dbb4bdc0-b289-43e7-9bee-2deee6c4917f",
   "metadata": {},
   "outputs": [],
   "source": [
    "D = 3  # dimension of space \n",
    "M = 5  # count of nodes\n",
    "P = 4  # dimension of constraints\n",
    "L, mu = 10, 1"
   ]
  },
  {
   "cell_type": "code",
   "execution_count": 5,
   "id": "019c7010-b3a1-4223-b5cb-7c4901bd65d1",
   "metadata": {},
   "outputs": [
    {
     "name": "stderr",
     "output_type": "stream",
     "text": [
      "<class 'networkx.utils.decorators.argmap'> compilation 8:4: FutureWarning: laplacian_matrix will return a scipy.sparse array instead of a matrix in Networkx 3.0.\n"
     ]
    }
   ],
   "source": [
    "x = np.random.rand(M, D)\n",
    "B = create_matrix_with_L_mu(P, D, L, mu).T\n",
    "B = np.random.rand(P, D)\n",
    "G = circulant_graph(M, [1])\n",
    "W = nx.laplacian_matrix(G).A  # may be better not to convert into numpy array\n",
    "\n",
    "oracle_list = [LinearRegressionL2Oracle(np.random.rand(D, D), np.random.rand(D), 1) for _ in range(M)]\n",
    "logger = LoggerDecentralized()"
   ]
  },
  {
   "cell_type": "code",
   "execution_count": 6,
   "id": "dd24df32-4a42-49ac-acbf-9b9bff6cfc6e",
   "metadata": {},
   "outputs": [
    {
     "data": {
      "text/plain": [
       "array([[-8.3868059 , -8.74748731, -4.15884293],\n",
       "       [-2.01957109, -2.59672107,  1.8435837 ],\n",
       "       [11.97317479, 14.84356942,  0.65668091],\n",
       "       [ 9.43584105,  2.68357677,  7.35202503],\n",
       "       [-4.38853252, -3.25289342, -5.40119519]])"
      ]
     },
     "execution_count": 6,
     "metadata": {},
     "output_type": "execute_result"
    }
   ],
   "source": [
    "opt = DAPDG(oracle_list, x, B, W, logger)\n",
    "opt.run(max_iter=1000)\n",
    "opt.x"
   ]
  },
  {
   "cell_type": "code",
   "execution_count": null,
   "id": "26e8cadb-3bab-48c2-a4d7-7c162aeb3bd5",
   "metadata": {},
   "outputs": [],
   "source": []
  }
 ],
 "metadata": {
  "kernelspec": {
   "display_name": "Python 3 (ipykernel)",
   "language": "python",
   "name": "python3"
  },
  "language_info": {
   "codemirror_mode": {
    "name": "ipython",
    "version": 3
   },
   "file_extension": ".py",
   "mimetype": "text/x-python",
   "name": "python",
   "nbconvert_exporter": "python",
   "pygments_lexer": "ipython3",
   "version": "3.10.6"
  }
 },
 "nbformat": 4,
 "nbformat_minor": 5
}
