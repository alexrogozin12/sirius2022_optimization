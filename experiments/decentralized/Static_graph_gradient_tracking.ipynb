{
 "cells": [
  {
   "cell_type": "code",
   "execution_count": 3,
   "id": "789fe52f",
   "metadata": {},
   "outputs": [],
   "source": [
    "import random\n",
    "import numpy as np\n",
    "import matplotlib.pyplot as plt\n",
    "import time\n",
    "import itertools\n",
    "from tqdm import tqdm\n",
    "from progress.bar import IncrementalBar\n",
    "from IPython.display import clear_output, display"
   ]
  },
  {
   "cell_type": "code",
   "execution_count": 4,
   "id": "06306c56",
   "metadata": {},
   "outputs": [
    {
     "data": {
      "text/html": [
       "<style>.container { width:100% !important; }</style>"
      ],
      "text/plain": [
       "<IPython.core.display.HTML object>"
      ]
     },
     "metadata": {},
     "output_type": "display_data"
    }
   ],
   "source": [
    "from IPython.display import display, HTML\n",
    "display(HTML(\"<style>.container { width:100% !important; }</style>\"))"
   ]
  },
  {
   "cell_type": "code",
   "execution_count": 5,
   "id": "7b34c08f",
   "metadata": {},
   "outputs": [],
   "source": [
    "# warnings are not important :)\n",
    "import warnings\n",
    "warnings.filterwarnings('ignore')"
   ]
  },
  {
   "cell_type": "code",
   "execution_count": 6,
   "id": "2a8899c8",
   "metadata": {},
   "outputs": [],
   "source": [
    "# import graph module\n",
    "import sys\n",
    "sys.path.append(\"../../\")\n",
    "from tools.graph_tools import *\n",
    "from oracles.minimization import *\n",
    "from methods.gradient_tracking import *"
   ]
  },
  {
   "cell_type": "code",
   "execution_count": null,
   "id": "723a0b2f",
   "metadata": {},
   "outputs": [],
   "source": []
  },
  {
   "cell_type": "code",
   "execution_count": 7,
   "id": "2b034767",
   "metadata": {},
   "outputs": [],
   "source": [
    "def calc_delta_Fx(oracles, x):\n",
    "    res = []\n",
    "    for i in range(len(oracles)):\n",
    "        res.append( oracles[i].grad(np.array([x[i,j] for j in range(2)])) )\n",
    "    return np.matrix(res)\n",
    "\n",
    "def calc_F(oracles, x):\n",
    "    res = []\n",
    "    for i in range(len(oracles)):\n",
    "        res.append( oracles[i].func(np.array([x[i,j] for j in range(2)])) )\n",
    "    return np.matrix(res)\n",
    "\n",
    "def calc_error(oracles, x_curr, x_prev):\n",
    "    return np.sum( abs(calc_F(oracles, x_curr) - calc_F(oracles, x_prev)) )  / len(oracles)\n",
    "\n",
    "def _calc_error(oracles, x_curr, x_prev):\n",
    "    return np.sum( abs(x_curr - np.array([1, 2])) ) / len(oracles)\n"
   ]
  },
  {
   "cell_type": "code",
   "execution_count": null,
   "id": "fbd7bc14",
   "metadata": {},
   "outputs": [],
   "source": []
  },
  {
   "cell_type": "code",
   "execution_count": 8,
   "id": "535add21",
   "metadata": {},
   "outputs": [],
   "source": [
    "class Gradient_track:\n",
    "    def __init__(self,\n",
    "            F : list,\n",
    "            f : list,\n",
    "            calc_delta_Fx,\n",
    "            calc_error,\n",
    "            W : np.matrix,\n",
    "            x0 : np.matrix,\n",
    "            xx : np.matrix,\n",
    "            alpha : float,\n",
    "            theta : float,\n",
    "            mu : float,\n",
    "            err : float,\n",
    "            max_iter : int = 100,\n",
    "            need_log : bool = False,\n",
    "            need_err_logs : bool = False):\n",
    "        self.F = F\n",
    "        self.f = f\n",
    "        self.calc_delta_Fx = calc_delta_Fx\n",
    "        self.calc_error = calc_error\n",
    "        self.W = W\n",
    "        self.x0 = x0\n",
    "        self.xx = xx\n",
    "        self.N = len(x0)\n",
    "        self.alpha = alpha\n",
    "        self.theta = theta\n",
    "        self.mu    = mu\n",
    "        self.err = err\n",
    "        self.max_iter = max_iter\n",
    "\n",
    "    def pre_work(self):\n",
    "        self.y  = x0.copy()\n",
    "        self.y0 = x0.copy()\n",
    "        self.z  = x0.copy()\n",
    "        self.s  = calc_delta_Fx(self.f, self.x0)\n",
    "        self.x_prev = x0.copy()\n",
    "        self.x  = self.W * self.z + (1-self.theta) * self.W * self.x0\n",
    "        self.k  = 0\n",
    "        self.start_err = self._calc_error()\n",
    "\n",
    "    def step(self):\n",
    "        self.k += 1\n",
    "        self.y0 = self.y.copy()\n",
    "        self.y  = self.theta * self.z + (1 - self.theta) * self.x\n",
    "        self.s  = self.W * self.s + \\\n",
    "                  self.calc_delta_Fx(self.f, self.y) - \\\n",
    "                  self.calc_delta_Fx(self.f, self.y0)\n",
    "        self.x_prev = self.x.copy()\n",
    "        self.z  = (1/(1+self.mu*self.alpha/self.theta)) *\\\n",
    "                  ( self.W * ((self.mu * self.alpha / self.theta) * self.y + self.z) -\\\n",
    "                   self.alpha / self.theta * self.s )\n",
    "        self.x  = self.W * self.z + (1-self.theta) * self.W * self.x\n",
    "        \n",
    "    #def _calc_error(self):\n",
    "    #    return self.calc_error(self.F, self.x, self.x0)\n",
    "\n",
    "    #def _calc_error(self):\n",
    "    #    return np.sum(abs(self.x - self.xx)) / self.N\n",
    "\n",
    "    def _calc_error(self):\n",
    "        return np.sum(abs(self.x - self.x_prev)) / self.N\n",
    "\n",
    "    def run(self):\n",
    "        while self._calc_error() > self.err and self.k < self.max_iter:\n",
    "            self.step()\n",
    "    \n",
    "    def run_with_status_bar(self):\n",
    "        error_bar = np.flip(np.arange(self.err, self.start_err, self.err+ self.start_err / 100))\n",
    "        print(error_bar)\n",
    "        i = 0\n",
    "        curr_error = self._calc_error()\n",
    "        self.print_bar(0, curr_error)\n",
    "        while curr_error > self.err and self.k < self.max_iter:\n",
    "            self.step()\n",
    "            curr_error = self._calc_error()\n",
    "            if curr_error < error_bar[i]:\n",
    "                i+=1\n",
    "                self.print_bar(i, curr_error)\n",
    "        self.print_bar(i, curr_error)\n",
    "        print(\"\\nEnd: \", curr_error)\n",
    "            \n",
    "                \n",
    "    def print_bar(self, i, curr_error):\n",
    "        clear_output(wait=True)\n",
    "        print(self.start_err, '[', end='')\n",
    "        for j in range(i+1):\n",
    "            print('|', end='')\n",
    "        for j in range(100-i-1):\n",
    "            print('-', end='')\n",
    "        print(']', self.err)\n",
    "        print('err:\\t', curr_error)\n",
    "        print('k:\\t', self.k)\n",
    "        print('x[0]:\\t', self.x[0])\n",
    "        \n",
    "    def find_theta_mu(self, alpha, num_of_theta, num_of_mu):\n",
    "        res = {}\n",
    "        for theta, mu in tqdm( itertools.product(np.linspace(0.0, 1.0, num_of_theta), np.linspace(0.0, 1.0, num_of_mu)) ):\n",
    "            self.theta = theta\n",
    "            self.mu    = mu\n",
    "            self.pre_work()\n",
    "            self.run()\n",
    "            res[theta, mu] = self.k\n",
    "        {k: v for k, v in sorted(res.items(), key=lambda item: item[1])}\n",
    "        return res"
   ]
  },
  {
   "cell_type": "code",
   "execution_count": null,
   "id": "06d35f4f",
   "metadata": {},
   "outputs": [],
   "source": []
  },
  {
   "cell_type": "code",
   "execution_count": 9,
   "id": "97e4bbd3",
   "metadata": {},
   "outputs": [],
   "source": [
    "N = 10\n",
    "x = np.array([1, 2])\n",
    "oracles = []\n",
    "for i in range(N):\n",
    "    A = np.random.random((2, 2))\n",
    "    b = A.dot(x)\n",
    "    oracles.append(LinearRegressionL2Oracle(A, b, regcoef=0.00001))\n",
    "    \n",
    "W = make_random_graph_matrix(N, 0.2)\n",
    "W = fill_metropolis_weigts(W)\n",
    "#make_graph_img(W, fig_size=(20, 20))\n",
    "\n",
    "alpha = pow(10, -3)\n",
    "theta = 0.5\n",
    "mu = 0\n",
    "\n",
    "err = pow(10, -12)\n",
    "max_iter = pow(10, 5)\n",
    "\n",
    "x0 = np.full((N, 2), [1.5, 1.5])\n",
    "xx = np.full((N, 2), [1.0, 2.0])\n",
    "\n",
    "#x0 = np.full((N, 2), [3, 3])"
   ]
  },
  {
   "cell_type": "code",
   "execution_count": null,
   "id": "d6a6d88e",
   "metadata": {},
   "outputs": [],
   "source": []
  },
  {
   "cell_type": "code",
   "execution_count": 10,
   "id": "2b20090c",
   "metadata": {},
   "outputs": [],
   "source": [
    "gt = Gradient_track(F = oracles,\n",
    "                 f = oracles,\n",
    "                 calc_delta_Fx = calc_delta_Fx,\n",
    "                 calc_error = calc_error,\n",
    "                 W = W,\n",
    "                 x0 = x0,\n",
    "                 xx = xx,\n",
    "                 alpha = alpha,\n",
    "                 theta = theta,\n",
    "                 mu = mu,\n",
    "                 err = err,\n",
    "                 max_iter = max_iter,\n",
    "                 need_log = False,\n",
    "                 need_err_logs = True)\n",
    "\n",
    "gt.pre_work()"
   ]
  },
  {
   "cell_type": "code",
   "execution_count": 11,
   "id": "8d667bb8",
   "metadata": {},
   "outputs": [
    {
     "name": "stderr",
     "output_type": "stream",
     "text": [
      "100it [20:59, 12.59s/it]\n"
     ]
    },
    {
     "data": {
      "text/plain": [
       "{(0.0, 0.0): 1,\n",
       " (0.0, 0.1111111111111111): 1,\n",
       " (0.0, 0.2222222222222222): 1,\n",
       " (0.0, 0.3333333333333333): 1,\n",
       " (0.0, 0.4444444444444444): 1,\n",
       " (0.0, 0.5555555555555556): 1,\n",
       " (0.0, 0.6666666666666666): 1,\n",
       " (0.0, 0.7777777777777777): 1,\n",
       " (0.0, 0.8888888888888888): 1,\n",
       " (0.0, 1.0): 1,\n",
       " (0.1111111111111111, 0.0): 4518,\n",
       " (0.1111111111111111, 0.1111111111111111): 100000,\n",
       " (0.1111111111111111, 0.2222222222222222): 82421,\n",
       " (0.1111111111111111, 0.3333333333333333): 49354,\n",
       " (0.1111111111111111, 0.4444444444444444): 36090,\n",
       " (0.1111111111111111, 0.5555555555555556): 28892,\n",
       " (0.1111111111111111, 0.6666666666666666): 24351,\n",
       " (0.1111111111111111, 0.7777777777777777): 21212,\n",
       " (0.1111111111111111, 0.8888888888888888): 18905,\n",
       " (0.1111111111111111, 1.0): 17132,\n",
       " (0.2222222222222222, 0.0): 16745,\n",
       " (0.2222222222222222, 0.1111111111111111): 100000,\n",
       " (0.2222222222222222, 0.2222222222222222): 100000,\n",
       " (0.2222222222222222, 0.3333333333333333): 100000,\n",
       " (0.2222222222222222, 0.4444444444444444): 100000,\n",
       " (0.2222222222222222, 0.5555555555555556): 100000,\n",
       " (0.2222222222222222, 0.6666666666666666): 100000,\n",
       " (0.2222222222222222, 0.7777777777777777): 88190,\n",
       " (0.2222222222222222, 0.8888888888888888): 76414,\n",
       " (0.2222222222222222, 1.0): 67512,\n",
       " (0.3333333333333333, 0.0): 42194,\n",
       " (0.3333333333333333, 0.1111111111111111): 100000,\n",
       " (0.3333333333333333, 0.2222222222222222): 100000,\n",
       " (0.3333333333333333, 0.3333333333333333): 100000,\n",
       " (0.3333333333333333, 0.4444444444444444): 100000,\n",
       " (0.3333333333333333, 0.5555555555555556): 100000,\n",
       " (0.3333333333333333, 0.6666666666666666): 100000,\n",
       " (0.3333333333333333, 0.7777777777777777): 100000,\n",
       " (0.3333333333333333, 0.8888888888888888): 100000,\n",
       " (0.3333333333333333, 1.0): 100000,\n",
       " (0.4444444444444444, 0.0): 76511,\n",
       " (0.4444444444444444, 0.1111111111111111): 100000,\n",
       " (0.4444444444444444, 0.2222222222222222): 100000,\n",
       " (0.4444444444444444, 0.3333333333333333): 100000,\n",
       " (0.4444444444444444, 0.4444444444444444): 100000,\n",
       " (0.4444444444444444, 0.5555555555555556): 100000,\n",
       " (0.4444444444444444, 0.6666666666666666): 100000,\n",
       " (0.4444444444444444, 0.7777777777777777): 100000,\n",
       " (0.4444444444444444, 0.8888888888888888): 100000,\n",
       " (0.4444444444444444, 1.0): 100000,\n",
       " (0.5555555555555556, 0.0): 100000,\n",
       " (0.5555555555555556, 0.1111111111111111): 100000,\n",
       " (0.5555555555555556, 0.2222222222222222): 100000,\n",
       " (0.5555555555555556, 0.3333333333333333): 100000,\n",
       " (0.5555555555555556, 0.4444444444444444): 100000,\n",
       " (0.5555555555555556, 0.5555555555555556): 100000,\n",
       " (0.5555555555555556, 0.6666666666666666): 100000,\n",
       " (0.5555555555555556, 0.7777777777777777): 100000,\n",
       " (0.5555555555555556, 0.8888888888888888): 100000,\n",
       " (0.5555555555555556, 1.0): 100000,\n",
       " (0.6666666666666666, 0.0): 100000,\n",
       " (0.6666666666666666, 0.1111111111111111): 100000,\n",
       " (0.6666666666666666, 0.2222222222222222): 100000,\n",
       " (0.6666666666666666, 0.3333333333333333): 100000,\n",
       " (0.6666666666666666, 0.4444444444444444): 100000,\n",
       " (0.6666666666666666, 0.5555555555555556): 100000,\n",
       " (0.6666666666666666, 0.6666666666666666): 100000,\n",
       " (0.6666666666666666, 0.7777777777777777): 100000,\n",
       " (0.6666666666666666, 0.8888888888888888): 100000,\n",
       " (0.6666666666666666, 1.0): 100000,\n",
       " (0.7777777777777777, 0.0): 100000,\n",
       " (0.7777777777777777, 0.1111111111111111): 100000,\n",
       " (0.7777777777777777, 0.2222222222222222): 100000,\n",
       " (0.7777777777777777, 0.3333333333333333): 100000,\n",
       " (0.7777777777777777, 0.4444444444444444): 100000,\n",
       " (0.7777777777777777, 0.5555555555555556): 100000,\n",
       " (0.7777777777777777, 0.6666666666666666): 100000,\n",
       " (0.7777777777777777, 0.7777777777777777): 100000,\n",
       " (0.7777777777777777, 0.8888888888888888): 100000,\n",
       " (0.7777777777777777, 1.0): 100000,\n",
       " (0.8888888888888888, 0.0): 100000,\n",
       " (0.8888888888888888, 0.1111111111111111): 100000,\n",
       " (0.8888888888888888, 0.2222222222222222): 100000,\n",
       " (0.8888888888888888, 0.3333333333333333): 100000,\n",
       " (0.8888888888888888, 0.4444444444444444): 100000,\n",
       " (0.8888888888888888, 0.5555555555555556): 100000,\n",
       " (0.8888888888888888, 0.6666666666666666): 100000,\n",
       " (0.8888888888888888, 0.7777777777777777): 100000,\n",
       " (0.8888888888888888, 0.8888888888888888): 100000,\n",
       " (0.8888888888888888, 1.0): 100000,\n",
       " (1.0, 0.0): 0,\n",
       " (1.0, 0.1111111111111111): 0,\n",
       " (1.0, 0.2222222222222222): 0,\n",
       " (1.0, 0.3333333333333333): 0,\n",
       " (1.0, 0.4444444444444444): 0,\n",
       " (1.0, 0.5555555555555556): 0,\n",
       " (1.0, 0.6666666666666666): 0,\n",
       " (1.0, 0.7777777777777777): 0,\n",
       " (1.0, 0.8888888888888888): 0,\n",
       " (1.0, 1.0): 0}"
      ]
     },
     "execution_count": 11,
     "metadata": {},
     "output_type": "execute_result"
    }
   ],
   "source": [
    "gt.find_theta_mu(0.01, 10, 10)"
   ]
  },
  {
   "cell_type": "code",
   "execution_count": 13,
   "id": "8fc4292c",
   "metadata": {},
   "outputs": [
    {
     "name": "stdout",
     "output_type": "stream",
     "text": [
      "2.666669999999999 [|||||||||||||||||||||||||||||||||||||||||||||||||||||||||||||||||||||||||||||||||||||||||||||||||||||] 1e-12\n",
      "err:\t 9.985567928083584e-13\n",
      "k:\t 4518\n",
      "x[0]:\t [[1.10965085 2.21902596]]\n",
      "\n",
      "End:  9.985567928083584e-13\n"
     ]
    }
   ],
   "source": [
    "gt.theta = 0.11111\n",
    "gt.mu    = 0.0\n",
    "gt.pre_work()\n",
    "gt.run_with_status_bar()"
   ]
  },
  {
   "cell_type": "code",
   "execution_count": null,
   "id": "9ab8b604",
   "metadata": {},
   "outputs": [],
   "source": []
  },
  {
   "cell_type": "code",
   "execution_count": null,
   "id": "b227f94c",
   "metadata": {},
   "outputs": [],
   "source": []
  },
  {
   "cell_type": "code",
   "execution_count": null,
   "id": "8a211817",
   "metadata": {},
   "outputs": [],
   "source": []
  },
  {
   "cell_type": "code",
   "execution_count": null,
   "id": "8b2e0b33",
   "metadata": {},
   "outputs": [],
   "source": []
  },
  {
   "cell_type": "code",
   "execution_count": null,
   "id": "e00c3e52",
   "metadata": {},
   "outputs": [],
   "source": []
  },
  {
   "cell_type": "code",
   "execution_count": null,
   "id": "6f3697d5",
   "metadata": {},
   "outputs": [],
   "source": []
  },
  {
   "cell_type": "code",
   "execution_count": null,
   "id": "4c0f1802",
   "metadata": {},
   "outputs": [],
   "source": []
  },
  {
   "cell_type": "code",
   "execution_count": null,
   "id": "d664849b",
   "metadata": {},
   "outputs": [],
   "source": []
  },
  {
   "cell_type": "code",
   "execution_count": null,
   "id": "010a6f83",
   "metadata": {},
   "outputs": [],
   "source": []
  },
  {
   "cell_type": "code",
   "execution_count": null,
   "id": "c8f50bb2",
   "metadata": {},
   "outputs": [],
   "source": []
  },
  {
   "cell_type": "code",
   "execution_count": null,
   "id": "09a1f723",
   "metadata": {},
   "outputs": [],
   "source": []
  },
  {
   "cell_type": "code",
   "execution_count": null,
   "id": "1faf89e1",
   "metadata": {},
   "outputs": [],
   "source": []
  },
  {
   "cell_type": "code",
   "execution_count": null,
   "id": "c1fd4010",
   "metadata": {},
   "outputs": [],
   "source": []
  },
  {
   "cell_type": "code",
   "execution_count": null,
   "id": "39ba8dbf",
   "metadata": {},
   "outputs": [],
   "source": []
  },
  {
   "cell_type": "code",
   "execution_count": null,
   "id": "0b77d76a",
   "metadata": {},
   "outputs": [],
   "source": []
  },
  {
   "cell_type": "code",
   "execution_count": null,
   "id": "fa4aca02",
   "metadata": {},
   "outputs": [],
   "source": []
  },
  {
   "cell_type": "code",
   "execution_count": null,
   "id": "eb7f8570",
   "metadata": {},
   "outputs": [],
   "source": []
  },
  {
   "cell_type": "code",
   "execution_count": null,
   "id": "5ddbd8d0",
   "metadata": {},
   "outputs": [],
   "source": []
  },
  {
   "cell_type": "code",
   "execution_count": null,
   "id": "56062274",
   "metadata": {},
   "outputs": [],
   "source": []
  },
  {
   "cell_type": "code",
   "execution_count": null,
   "id": "320f92cb",
   "metadata": {},
   "outputs": [],
   "source": []
  },
  {
   "cell_type": "code",
   "execution_count": null,
   "id": "172a5558",
   "metadata": {},
   "outputs": [],
   "source": []
  },
  {
   "cell_type": "code",
   "execution_count": null,
   "id": "5b1a9d7a",
   "metadata": {},
   "outputs": [],
   "source": []
  },
  {
   "cell_type": "code",
   "execution_count": null,
   "id": "b54d88e3",
   "metadata": {},
   "outputs": [],
   "source": []
  }
 ],
 "metadata": {
  "kernelspec": {
   "display_name": "Python 3 (ipykernel)",
   "language": "python",
   "name": "python3"
  },
  "language_info": {
   "codemirror_mode": {
    "name": "ipython",
    "version": 3
   },
   "file_extension": ".py",
   "mimetype": "text/x-python",
   "name": "python",
   "nbconvert_exporter": "python",
   "pygments_lexer": "ipython3",
   "version": "3.9.13"
  }
 },
 "nbformat": 4,
 "nbformat_minor": 5
}
