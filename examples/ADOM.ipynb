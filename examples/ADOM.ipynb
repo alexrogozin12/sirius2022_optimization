{
  "cells": [
    {
      "cell_type": "code",
      "execution_count": 89,
      "metadata": {
        "id": "x4G9TRtdRmw-"
      },
      "outputs": [],
      "source": [
        "import random\n",
        "import matplotlib.pyplot as plt\n",
        "import numpy as np\n",
        "import networkx as nx\n",
        "from networkx.generators.random_graphs import erdos_renyi_graph, complete_graph\n",
        "from networkx.generators import circulant_graph\n",
        "\n",
        "def make_cirvular_graph(N):\n",
        "    G = nx.circulant_graph(N, [1])\n",
        "    return nx.adjacency_matrix(G).todense()\n",
        "\n",
        "def make_complete_graph(N):\n",
        "    G = nx.complete_graph(N)\n",
        "    return nx.adjacency_matrix(G).todense()\n",
        "\n",
        "def make_random_graph(N, occupancy=0.5):\n",
        "    G = nx.complete_graph(N)\n",
        "    fixed_edges = []\n",
        "    edges = list(G.edges)\n",
        "    num_of_edges = len(edges)\n",
        "    vanish_rate = int(np.round(num_of_edges*occupancy))\n",
        "    if vanish_rate < N:\n",
        "        print(\"vanish_rate lover than N\", vanish_rate, \" \", N)\n",
        "        return\n",
        "    for i in range(vanish_rate):\n",
        "        # TODO: make this more optimal\n",
        "        while True:\n",
        "            edge = edges[random.randint(0, num_of_edges-1)]\n",
        "            if edge not in fixed_edges:\n",
        "                G.remove_edge(edge[0], edge[1])\n",
        "            if nx.is_connected(G):\n",
        "                edges.remove(edge)\n",
        "                num_of_edges -= 1\n",
        "                break\n",
        "            else:\n",
        "                G.add_edge(edge, weight=1)\n",
        "                fixed_edges.append(edge)\n",
        "    return nx.adjacency_matrix(G).todense()\n",
        "\n",
        "def vanish_random_edge(M):\n",
        "    G = nx.from_numpy_matrix(M)\n",
        "    fixed_edges = []\n",
        "    edges = list(G.edges)\n",
        "    num_of_edges = len(edges)\n",
        "    # TODO: make this more optimal\n",
        "    while True:\n",
        "        edge = edges[random.randint(0, num_of_edges-1)]\n",
        "        if edge not in fixed_edges:\n",
        "            G.remove_edge(edge[0], edge[1])\n",
        "        if nx.is_connected(G):\n",
        "            edges.remove(edge)\n",
        "            num_of_edges -= 1\n",
        "            break\n",
        "        else:\n",
        "            G.add_edge(edge[0], edge[1], weight=1)\n",
        "            fixed_edges.append(edge)\n",
        "    return fill_metropolis_weigts(nx.adjacency_matrix(G).todense())\n",
        "\n",
        "def fill_metropolis_weigts(M):\n",
        "    n_links = []\n",
        "    for i in range(len(M)):\n",
        "        n_links.append(np.count_nonzero(M[i]))\n",
        "    G = nx.from_numpy_matrix(M)\n",
        "    for (u, v) in G.edges():\n",
        "        G.edges[u,v]['weight'] = 1 / max(n_links[u], n_links[v])\n",
        "    return nx.adjacency_matrix(G).todense()\n",
        "\n",
        "def make_graph_img(M, num_of_lines = 5, fig_size=(5, 5)):\n",
        "    G = nx.from_numpy_matrix(M)\n",
        "    _w = []\n",
        "    _step = 1 / num_of_lines\n",
        "    w_08 = [(u, v) for (u, v, d) in G.edges(data=True) if d[\"weight\"] >= 0.8]\n",
        "    for i in range(num_of_lines):\n",
        "        _w.append([(u, v) for (u, v, d) in G.edges(data=True) if d[\"weight\"] > i * _step and d[\"weight\"] <= (i+1)*_step])\n",
        "\n",
        "    pos = nx.spring_layout(G, seed=7)  # positions for all nodes - seed for reproducibility\n",
        "\n",
        "    edge_labels = nx.get_edge_attributes(G, \"weight\")\n",
        "    for key in edge_labels:\n",
        "        edge_labels[key] = np.round(edge_labels[key], 2)\n",
        "\n",
        "    plt.figure(figsize=fig_size, dpi=80)\n",
        "\n",
        "    nx.draw_networkx_nodes(G, pos, node_size=700)\n",
        "\n",
        "    for i in range(num_of_lines):\n",
        "        nx.draw_networkx_edges(G, pos, edgelist=_w[i], width=4, alpha=(i+1)*_step)\n",
        "\n",
        "    nx.draw_networkx_labels(G, pos, font_size=20, font_family=\"sans-serif\")\n",
        "    nx.draw_networkx_edge_labels(G, pos, edge_labels)\n",
        "\n",
        "    ax = plt.gca()\n",
        "    ax.margins(0.08)\n",
        "    plt.axis(\"off\")\n",
        "    plt.tight_layout()\n",
        "    plt.show()"
      ]
    },
    {
      "cell_type": "code",
      "execution_count": 95,
      "metadata": {
        "id": "VRdqXN6cRmw-"
      },
      "outputs": [],
      "source": [
        "import torch\n",
        "from sklearn.datasets import make_classification\n",
        "import random\n",
        "import math\n",
        "import matplotlib.pyplot as plt\n",
        "import networkx as nx\n",
        "import numpy as np\n",
        "from networkx.generators import circulant_graph\n",
        "\n",
        "def Fenchel(z):\n",
        "    return torch.sum(torch.abs(z)*torch.log(torch.abs(z)) + (1 - torch.abs(z))*torch.log(1 - torch.abs(z)))\n",
        "\n",
        "def dual_grad(z_):\n",
        "    return torch.autograd.grad(Fenchel(z_), z_)\n",
        "\n",
        "def adom_iteration(z, z_f, mu, alpha, nu, theta, sigma, tau, W, y):\n",
        "    z_g = tau*z + (1 - tau)*z_f\n",
        "    gr = dual_grad(z_g)[0]\n",
        "    delta = torch.sum(sigma*W*(mu - nu*dual_grad(z_g)[0]), 1)\n",
        "    mu = mu - nu*dual_grad(z_g)[0] - delta\n",
        "    z = z + nu*alpha*(z_g - z) + delta\n",
        "    z_f = z_g - torch.sum(theta*W*dual_grad(z_g)[0], 1)\n",
        "    \n",
        "    return z, z_g, z_f\n",
        "\n",
        "def ADOM(W, X, y, mu_, L):\n",
        "    \"\"\"\n",
        "    stop_criterion\n",
        "    W - graph matrix\n",
        "    x - features\n",
        "    y - labels\n",
        "    mu_ - strong convex constant\n",
        "    L - convex constant\n",
        "    \"\"\"\n",
        "\n",
        "    z = torch.tensor(torch.rand(10), requires_grad=True)\n",
        "    mean, std = torch.mean(z), torch.std(z)\n",
        "    z  = (z-mean)\n",
        "    z_f = torch.empty_like(z).copy_(z)\n",
        "\n",
        "    mu = torch.tensor(torch.from_numpy(np.full(10, np.random.random_sample())), requires_grad=True)\n",
        "    mu_ = mu_\n",
        "    L = L\n",
        "    alpha = 1/(2*L)\n",
        "    lambda_min_positive = min(np.extract(np.linalg.eigvals(W)>0, np.linalg.eigvals(W)))\n",
        "    nu = torch.tensor(torch.from_numpy(np.array(2*lambda_min_positive*math.sqrt(mu_*L)/(7*max(np.linalg.eigvals(W))))), requires_grad=True)\n",
        "    theta = mu_/max(np.linalg.eigvals(W))\n",
        "    tau = lambda_min_positive*math.sqrt(mu_/L)/(7*max(np.linalg.eigvals(W)))\n",
        "    sigma = theta/mu_\n",
        "\n",
        "    W = W.astype(float)\n",
        "    W = torch.tensor(W, requires_grad = True)\n",
        "    F = []\n",
        "    i = 0\n",
        "    while(i != -1):\n",
        "        z, z_g, z_f = adom_iteration(z, z_f, mu, alpha, nu, theta, sigma, tau, W, y)\n",
        "        F.append(Fenchel(z_g))\n",
        "        if ((i > 2) and ((F[i] > F[i-1]) and (F[i-1] > F[i-2]))): i = -1\n",
        "        else: i+=1\n",
        "    return z, z_g, z_f, F"
      ]
    },
    {
      "cell_type": "code",
      "execution_count": 91,
      "metadata": {
        "colab": {
          "base_uri": "https://localhost:8080/"
        },
        "outputId": "f7e741ca-4ec4-41a7-a862-75f6214a95b9",
        "id": "ZpVQxBhJRmw-"
      },
      "outputs": [
        {
          "output_type": "stream",
          "name": "stderr",
          "text": [
            "/usr/local/lib/python3.7/dist-packages/ipykernel_launcher.py:7: UserWarning: To copy construct from a tensor, it is recommended to use sourceTensor.clone().detach() or sourceTensor.clone().detach().requires_grad_(True), rather than torch.tensor(sourceTensor).\n",
            "  import sys\n"
          ]
        }
      ],
      "source": [
        "N = 10\n",
        "W = make_random_graph(N)\n",
        "W = fill_metropolis_weigts(W)\n",
        "n_samples, n_features = 10, 10\n",
        "rng = np.random.RandomState(0)\n",
        "X, y = make_classification(n_samples, n_features, random_state=rng)\n",
        "X = torch.tensor(torch.from_numpy(X), requires_grad=True)\n",
        "np.random.seed(0)"
      ]
    },
    {
      "cell_type": "code",
      "execution_count": 92,
      "metadata": {
        "id": "kkn5zWvrRmw_"
      },
      "outputs": [],
      "source": [
        "y = ((y - 0.5)*2)"
      ]
    },
    {
      "cell_type": "code",
      "execution_count": 93,
      "metadata": {
        "id": "Od_80ONnRmw_"
      },
      "outputs": [],
      "source": [
        "y = y.astype(int)"
      ]
    },
    {
      "cell_type": "code",
      "execution_count": 96,
      "metadata": {
        "colab": {
          "base_uri": "https://localhost:8080/"
        },
        "outputId": "022e972e-19ca-4673-9a22-8a10d5f829a8",
        "id": "eZWNd4yoRmw_"
      },
      "outputs": [
        {
          "output_type": "stream",
          "name": "stderr",
          "text": [
            "/usr/local/lib/python3.7/dist-packages/ipykernel_launcher.py:50: UserWarning: To copy construct from a tensor, it is recommended to use sourceTensor.clone().detach() or sourceTensor.clone().detach().requires_grad_(True), rather than torch.tensor(sourceTensor).\n",
            "/usr/local/lib/python3.7/dist-packages/ipykernel_launcher.py:55: UserWarning: To copy construct from a tensor, it is recommended to use sourceTensor.clone().detach() or sourceTensor.clone().detach().requires_grad_(True), rather than torch.tensor(sourceTensor).\n",
            "/usr/local/lib/python3.7/dist-packages/ipykernel_launcher.py:60: UserWarning: To copy construct from a tensor, it is recommended to use sourceTensor.clone().detach() or sourceTensor.clone().detach().requires_grad_(True), rather than torch.tensor(sourceTensor).\n"
          ]
        }
      ],
      "source": [
        "z, z_g, z_f, F = ADOM(W, X, y, 0.001, 1)"
      ]
    },
    {
      "cell_type": "code",
      "execution_count": 97,
      "metadata": {
        "colab": {
          "base_uri": "https://localhost:8080/",
          "height": 265
        },
        "outputId": "fd122cf3-d39f-4e4e-d557-16cf52e073f6",
        "id": "G47lBXnjRmw_"
      },
      "outputs": [
        {
          "output_type": "display_data",
          "data": {
            "text/plain": [
              "<Figure size 432x288 with 1 Axes>"
            ],
            "image/png": "[encoded data removed]"
          },
          "metadata": {
            "needs_background": "light"
          }
        }
      ],
      "source": [
        "import matplotlib.pyplot as plt\n",
        "plt.plot([i.detach().numpy() for i in F])\n",
        "plt.show()"
      ]
    }
  ],
  "metadata": {
    "accelerator": "GPU",
    "colab": {
      "provenance": []
    },
    "gpuClass": "standard",
    "kernelspec": {
      "display_name": "Python 3",
      "name": "python3"
    },
    "language_info": {
      "name": "python"
    }
  },
  "nbformat": 4,
  "nbformat_minor": 0
}